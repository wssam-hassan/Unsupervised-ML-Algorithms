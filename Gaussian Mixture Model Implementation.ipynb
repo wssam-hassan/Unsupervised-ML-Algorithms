{
 "cells": [
  {
   "cell_type": "markdown",
   "metadata": {},
   "source": [
    "### Import Packages"
   ]
  },
  {
   "cell_type": "code",
   "execution_count": 1,
   "metadata": {},
   "outputs": [],
   "source": [
    "import numpy as np\n",
    "import pandas as pd\n",
    "import matplotlib.pyplot as plt\n",
    "from sklearn import datasets\n",
    "from scipy.stats import multivariate_normal"
   ]
  },
  {
   "cell_type": "markdown",
   "metadata": {},
   "source": [
    "### Necessary Functions"
   ]
  },
  {
   "cell_type": "code",
   "execution_count": 2,
   "metadata": {},
   "outputs": [],
   "source": [
    "def responsibility_computing(data, weights, means, covariances):\n",
    "    respon = np.zeros((len(data), len(means)))\n",
    "    for i in range(len(data)):\n",
    "        for j in range(len(means)): \n",
    "            respon[i, j] = multivariate_normal.pdf(data[i], mean=means[j], cov=covariances[j])*weights[j]\n",
    "    \n",
    "    row_sum = respon.sum(axis=1)[:, np.newaxis]\n",
    "    respon = respon / row_sum\n",
    "    return respon"
   ]
  },
  {
   "cell_type": "code",
   "execution_count": 3,
   "metadata": {},
   "outputs": [],
   "source": [
    "def weights_computing(soft_count):\n",
    "    weights = [0.] * len(soft_count)\n",
    "    soft_count_sum = np.sum(soft_count)  \n",
    "    \n",
    "    for i in range(len(soft_count)):\n",
    "        weights[i] = soft_count[i]/soft_count_sum\n",
    "    return weights"
   ]
  },
  {
   "cell_type": "code",
   "execution_count": 4,
   "metadata": {},
   "outputs": [],
   "source": [
    "def compute_means(data, respon, soft_count):\n",
    "    n_clusters = len(soft_count)\n",
    "    n_data = len(data)\n",
    "    means = [np.zeros(len(data[0]))] * n_clusters \n",
    "    \n",
    "    for i in range(n_clusters):\n",
    "        weighted_sum = 0.\n",
    "        for j in range(n_data): \n",
    "            weighted_sum += respon[j][i] * data[j]\n",
    "        \n",
    "        nk_soft = soft_count[i]\n",
    "        means[i] = (1/nk_soft)*weighted_sum\n",
    "    return means"
   ]
  },
  {
   "cell_type": "code",
   "execution_count": 5,
   "metadata": {},
   "outputs": [],
   "source": [
    "def compute_covariances(data, respon, soft_count, means):\n",
    "    n_clusters = len(soft_count)\n",
    "    n_dim = len(data[0])\n",
    "    n_data = len(data)\n",
    "    covariances = [np.zeros((n_dim,n_dim))] * n_clusters\n",
    "    \n",
    "    for i in range(n_clusters):\n",
    "        weighted_sum = np.zeros((n_dim, n_dim))\n",
    "        for j in range(n_data):\n",
    "            xi,uk = data[j], means[i]\n",
    "            weighted_sum += respon[j][i]* np.outer(xi-uk,xi-uk)\n",
    "        \n",
    "        nk_soft = soft_count[i]\n",
    "        covariances[i] =(1/nk_soft)*weighted_sum\n",
    "    return covariances"
   ]
  },
  {
   "cell_type": "code",
   "execution_count": 6,
   "metadata": {},
   "outputs": [],
   "source": [
    "def soft_counts(respon):\n",
    "    return np.sum(respon, axis=0)"
   ]
  },
  {
   "cell_type": "markdown",
   "metadata": {},
   "source": [
    "### Expectation Maximization Function"
   ]
  },
  {
   "cell_type": "code",
   "execution_count": 7,
   "metadata": {},
   "outputs": [],
   "source": [
    "def EM(data, init_means, init_covariances, init_weights, maxiter=50):\n",
    "    \n",
    "    means = init_means[:]\n",
    "    covariances = init_covariances[:]\n",
    "    weights = init_weights[:]\n",
    "    \n",
    "    n_data = len(data)\n",
    "    n_dim = len(data[0])\n",
    "    n_clusters = len(means)\n",
    "    \n",
    "    respon = np.zeros((n_data, n_clusters))\n",
    "    \n",
    "    for it in range(maxiter):\n",
    "        if it % 5 == 0:\n",
    "            print(\"Iteration %s\" % it)\n",
    "        \n",
    "        respon = responsibility_computing(data, weights, means, covariances)\n",
    "        soft_count = soft_counts(respon)\n",
    "        weights = weights_computing(soft_count)\n",
    "        means = compute_means(data, respon, soft_count)\n",
    "        covariances = compute_covariances(data, respon, soft_count, means)\n",
    "        \n",
    "    if it % 5 != 0:\n",
    "        print(\"Iteration %s\" % it)\n",
    "    \n",
    "    out = {'weights': weights, 'means': means, 'covs': covariances, 'respon': respon}\n",
    "    return out"
   ]
  },
  {
   "cell_type": "markdown",
   "metadata": {},
   "source": [
    "### Test Model"
   ]
  },
  {
   "cell_type": "code",
   "execution_count": 8,
   "metadata": {},
   "outputs": [],
   "source": [
    "n_samples = 120\n",
    "dataset = datasets.make_blobs(n_samples=n_samples, random_state=8)\n",
    "chosen = np.random.choice(90, 3, replace=False)\n",
    "initial_means = [dataset[0][x] for x in chosen]\n",
    "initial_covs = [np.cov(dataset[0], rowvar=0)] * 3\n",
    "initial_weights = [1/3.] * 3"
   ]
  },
  {
   "cell_type": "code",
   "execution_count": 9,
   "metadata": {},
   "outputs": [
    {
     "name": "stdout",
     "output_type": "stream",
     "text": [
      "Iteration 0\n",
      "Iteration 5\n",
      "Iteration 10\n",
      "Iteration 15\n",
      "Iteration 20\n",
      "Iteration 25\n",
      "Iteration 30\n",
      "Iteration 35\n",
      "Iteration 40\n",
      "Iteration 45\n",
      "Iteration 49\n"
     ]
    },
    {
     "data": {
      "text/plain": [
       "{'weights': [0.33333334213684307, 0.3333333245298235, 0.3333333333333333],\n",
       " 'means': [array([7.4546571 , 9.46224391]),\n",
       "  array([7.22713407, 0.50106154]),\n",
       "  array([-5.40881258, -9.65733346])],\n",
       " 'covs': [array([[1.33939476, 0.10071716],\n",
       "         [0.10071716, 1.19416749]]),\n",
       "  array([[1.05185902, 0.08873175],\n",
       "         [0.08873175, 1.26170595]]),\n",
       "  array([[ 0.9732117 , -0.00550796],\n",
       "         [-0.00550796,  1.03932787]])],\n",
       " 'respon': array([[3.19842586e-077, 1.01729324e-038, 1.00000000e+000],\n",
       "        [1.00000000e+000, 1.44812488e-010, 2.67341477e-107],\n",
       "        [1.83753785e-087, 3.19508687e-046, 1.00000000e+000],\n",
       "        [1.00000000e+000, 3.20854745e-015, 9.99714171e-126],\n",
       "        [1.00000000e+000, 1.38622119e-012, 3.67591826e-109],\n",
       "        [1.84940217e-013, 1.00000000e+000, 1.06435149e-059],\n",
       "        [1.35849717e-016, 1.00000000e+000, 3.54143921e-052],\n",
       "        [4.08062582e-086, 1.23812558e-044, 1.00000000e+000],\n",
       "        [5.53066192e-018, 1.00000000e+000, 1.51087952e-050],\n",
       "        [8.38990161e-023, 1.00000000e+000, 4.29649333e-050],\n",
       "        [1.23907215e-097, 8.51235177e-059, 1.00000000e+000],\n",
       "        [1.00000000e+000, 9.78647921e-019, 2.25489288e-105],\n",
       "        [6.62563939e-011, 1.00000000e+000, 1.24185401e-061],\n",
       "        [1.00000000e+000, 3.04363567e-011, 2.61870520e-108],\n",
       "        [1.36413299e-088, 1.84642542e-050, 1.00000000e+000],\n",
       "        [1.22138755e-089, 1.69831113e-042, 1.00000000e+000],\n",
       "        [1.80110785e-014, 1.00000000e+000, 3.89042201e-070],\n",
       "        [1.96848031e-011, 1.00000000e+000, 3.76210327e-079],\n",
       "        [5.84391404e-068, 7.59428780e-036, 1.00000000e+000],\n",
       "        [1.00000000e+000, 5.10178726e-020, 1.48471541e-129],\n",
       "        [3.56630452e-012, 1.00000000e+000, 1.03140234e-071],\n",
       "        [5.95140734e-081, 2.58177564e-043, 1.00000000e+000],\n",
       "        [5.54601644e-007, 9.99999445e-001, 2.26319113e-078],\n",
       "        [4.39454316e-018, 1.00000000e+000, 1.24296684e-055],\n",
       "        [1.40640748e-096, 8.99242524e-054, 1.00000000e+000],\n",
       "        [2.49144850e-095, 9.39392195e-051, 1.00000000e+000],\n",
       "        [1.00000000e+000, 1.28059106e-013, 8.30933137e-112],\n",
       "        [1.62735837e-090, 1.22770916e-048, 1.00000000e+000],\n",
       "        [4.30944235e-019, 1.00000000e+000, 1.77708183e-058],\n",
       "        [2.81155515e-014, 1.00000000e+000, 1.07665727e-062],\n",
       "        [1.00000000e+000, 1.82219766e-014, 2.69582463e-115],\n",
       "        [4.82745789e-097, 5.65903850e-056, 1.00000000e+000],\n",
       "        [2.03980418e-013, 1.00000000e+000, 1.63747166e-054],\n",
       "        [6.26359716e-016, 1.00000000e+000, 7.03802346e-068],\n",
       "        [1.00000000e+000, 1.20540435e-016, 2.16629832e-123],\n",
       "        [6.94718376e-014, 1.00000000e+000, 4.60679883e-063],\n",
       "        [5.70681239e-017, 1.00000000e+000, 2.54856558e-049],\n",
       "        [9.99999980e-001, 2.04097017e-008, 1.53705277e-097],\n",
       "        [7.00526967e-095, 9.52740713e-054, 1.00000000e+000],\n",
       "        [1.00000000e+000, 2.43322784e-018, 3.05214713e-125],\n",
       "        [2.76649347e-086, 9.01494715e-044, 1.00000000e+000],\n",
       "        [1.36892566e-087, 6.01169984e-046, 1.00000000e+000],\n",
       "        [1.06143480e-082, 6.25180583e-043, 1.00000000e+000],\n",
       "        [3.66996593e-086, 1.26507213e-050, 1.00000000e+000],\n",
       "        [1.92979036e-077, 9.71719390e-043, 1.00000000e+000],\n",
       "        [4.41158640e-015, 1.00000000e+000, 2.07316118e-060],\n",
       "        [1.00000000e+000, 1.76582313e-015, 4.01915142e-115],\n",
       "        [1.00000000e+000, 8.19426659e-015, 1.69416536e-115],\n",
       "        [5.45568157e-089, 4.23844829e-044, 1.00000000e+000],\n",
       "        [1.00000000e+000, 4.95935551e-010, 8.24625339e-104],\n",
       "        [1.00000000e+000, 1.98863476e-010, 7.69735724e-092],\n",
       "        [1.80299235e-092, 4.38185929e-048, 1.00000000e+000],\n",
       "        [2.14495647e-013, 1.00000000e+000, 1.49944783e-060],\n",
       "        [4.14629333e-020, 1.00000000e+000, 8.96995779e-051],\n",
       "        [3.15129247e-015, 1.00000000e+000, 6.52320365e-060],\n",
       "        [4.75982912e-074, 7.07404536e-037, 1.00000000e+000],\n",
       "        [1.83953543e-017, 1.00000000e+000, 4.87494528e-053],\n",
       "        [1.00000000e+000, 1.03740784e-014, 3.51931954e-109],\n",
       "        [9.99999997e-001, 2.67670896e-009, 3.85078663e-096],\n",
       "        [1.00000000e+000, 1.95898377e-012, 3.80619609e-102],\n",
       "        [2.49623429e-017, 1.00000000e+000, 2.41683461e-053],\n",
       "        [1.35582434e-087, 6.88518574e-048, 1.00000000e+000],\n",
       "        [1.55901601e-097, 2.21814234e-053, 1.00000000e+000],\n",
       "        [3.68687397e-014, 1.00000000e+000, 9.94729265e-066],\n",
       "        [8.95081327e-101, 5.58294834e-058, 1.00000000e+000],\n",
       "        [1.00000000e+000, 3.63957505e-017, 2.28520089e-126],\n",
       "        [7.31120995e-089, 3.41818564e-048, 1.00000000e+000],\n",
       "        [5.03500515e-104, 1.73225796e-054, 1.00000000e+000],\n",
       "        [1.68110605e-019, 1.00000000e+000, 1.07366198e-056],\n",
       "        [1.00000000e+000, 7.27317471e-012, 2.34085958e-105],\n",
       "        [1.00000000e+000, 8.89977374e-018, 2.25517254e-126],\n",
       "        [5.25204344e-011, 1.00000000e+000, 8.64157047e-056],\n",
       "        [5.93882659e-091, 2.29142942e-056, 1.00000000e+000],\n",
       "        [1.00000000e+000, 1.97942307e-013, 5.09533527e-117],\n",
       "        [4.50304963e-023, 1.00000000e+000, 5.60027495e-049],\n",
       "        [6.26329062e-016, 1.00000000e+000, 2.31156812e-045],\n",
       "        [1.16736883e-010, 1.00000000e+000, 5.86390070e-051],\n",
       "        [2.77674864e-093, 2.44483069e-055, 1.00000000e+000],\n",
       "        [1.00000000e+000, 2.03412807e-020, 1.74781697e-122],\n",
       "        [2.09048846e-076, 1.04347387e-039, 1.00000000e+000],\n",
       "        [2.92095396e-090, 7.92712337e-045, 1.00000000e+000],\n",
       "        [1.00000000e+000, 5.50856221e-016, 2.22507403e-117],\n",
       "        [6.88100344e-085, 2.06400895e-044, 1.00000000e+000],\n",
       "        [1.72856263e-014, 1.00000000e+000, 2.03494441e-058],\n",
       "        [8.08615832e-082, 5.60583526e-043, 1.00000000e+000],\n",
       "        [1.59848484e-019, 1.00000000e+000, 1.92317372e-050],\n",
       "        [1.00000000e+000, 2.01560477e-013, 1.52580340e-120],\n",
       "        [2.05640061e-018, 1.00000000e+000, 5.07106100e-058],\n",
       "        [1.00000000e+000, 2.74204350e-022, 3.43262286e-120],\n",
       "        [2.70936619e-013, 1.00000000e+000, 7.05440631e-051],\n",
       "        [1.00000000e+000, 7.07652569e-021, 6.08652754e-142],\n",
       "        [1.00000000e+000, 4.41740640e-013, 1.03788894e-107],\n",
       "        [1.00000000e+000, 3.79980541e-013, 1.18630885e-100],\n",
       "        [1.00000000e+000, 6.64099777e-015, 3.20168418e-116],\n",
       "        [6.30842824e-087, 1.80072103e-049, 1.00000000e+000],\n",
       "        [1.19355173e-089, 2.29386711e-051, 1.00000000e+000],\n",
       "        [1.00000000e+000, 2.94625682e-016, 1.26945296e-128],\n",
       "        [8.73880924e-021, 1.00000000e+000, 3.91740549e-051],\n",
       "        [4.12362662e-094, 1.29940869e-053, 1.00000000e+000],\n",
       "        [1.38503933e-016, 1.00000000e+000, 3.91309267e-057],\n",
       "        [1.22629984e-015, 1.00000000e+000, 1.19999777e-057],\n",
       "        [1.00000000e+000, 5.52212719e-018, 1.20234197e-125],\n",
       "        [1.28356731e-011, 1.00000000e+000, 1.00294665e-063],\n",
       "        [1.00000000e+000, 3.31832296e-017, 5.10372737e-132],\n",
       "        [1.00000000e+000, 3.85570236e-012, 2.07516484e-109],\n",
       "        [9.81170520e-075, 1.42232576e-041, 1.00000000e+000],\n",
       "        [1.57235123e-015, 1.00000000e+000, 6.38062162e-056],\n",
       "        [8.61758146e-081, 1.51571685e-046, 1.00000000e+000],\n",
       "        [7.29529721e-090, 1.96140590e-053, 1.00000000e+000],\n",
       "        [2.34835592e-093, 7.48361817e-055, 1.00000000e+000],\n",
       "        [3.52357853e-083, 1.95278892e-045, 1.00000000e+000],\n",
       "        [9.99999996e-001, 3.58600059e-009, 3.58807707e-089],\n",
       "        [5.29226255e-007, 9.99999471e-001, 6.50408354e-071],\n",
       "        [1.00000000e+000, 1.34683220e-015, 2.97725033e-116],\n",
       "        [2.63268823e-019, 1.00000000e+000, 1.29175618e-052],\n",
       "        [1.00000000e+000, 3.01524785e-017, 8.29082805e-118],\n",
       "        [1.00000000e+000, 1.29899276e-010, 3.84295908e-107],\n",
       "        [1.00000000e+000, 3.14018804e-012, 7.06720603e-117],\n",
       "        [1.00000000e+000, 1.15930576e-013, 2.44016646e-127],\n",
       "        [1.21180960e-011, 1.00000000e+000, 1.79314657e-055]])}"
      ]
     },
     "execution_count": 9,
     "metadata": {},
     "output_type": "execute_result"
    }
   ],
   "source": [
    "results = EM(dataset[0], initial_means, initial_covs, initial_weights)\n",
    "results"
   ]
  },
  {
   "cell_type": "code",
   "execution_count": 10,
   "metadata": {},
   "outputs": [],
   "source": [
    "helpful_df = pd.DataFrame(results['respon'])\n",
    "colors = helpful_df.idxmax(axis=1)"
   ]
  },
  {
   "cell_type": "code",
   "execution_count": 11,
   "metadata": {},
   "outputs": [
    {
     "data": {
      "image/png": "[encoded data removed]",
      "text/plain": [
       "<Figure size 432x288 with 1 Axes>"
      ]
     },
     "metadata": {
      "needs_background": "light"
     },
     "output_type": "display_data"
    },
    {
     "data": {
      "image/png": "[encoded data removed]",
      "text/plain": [
       "<Figure size 432x288 with 1 Axes>"
      ]
     },
     "metadata": {
      "needs_background": "light"
     },
     "output_type": "display_data"
    }
   ],
   "source": [
    "plt.scatter(dataset[0][:,0],dataset[0][:,1])\n",
    "plt.title('Points Without Colours')\n",
    "plt.show()\n",
    "\n",
    "plt.scatter(dataset[0][:,0],dataset[0][:,1],c=colors)\n",
    "plt.title('Coloured Points Upon GMM Clusters')\n",
    "plt.show()"
   ]
  }
 ],
 "metadata": {
  "kernelspec": {
   "display_name": "Python 3",
   "language": "python",
   "name": "python3"
  },
  "language_info": {
   "codemirror_mode": {
    "name": "ipython",
    "version": 3
   },
   "file_extension": ".py",
   "mimetype": "text/x-python",
   "name": "python",
   "nbconvert_exporter": "python",
   "pygments_lexer": "ipython3",
   "version": "3.8.5"
  }
 },
 "nbformat": 4,
 "nbformat_minor": 4
}
