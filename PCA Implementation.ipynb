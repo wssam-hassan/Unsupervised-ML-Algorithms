{
 "cells": [
  {
   "cell_type": "markdown",
   "metadata": {},
   "source": [
    "### Import the required libraries"
   ]
  },
  {
   "cell_type": "code",
   "execution_count": 1,
   "metadata": {},
   "outputs": [],
   "source": [
    "import numpy as np\n",
    "from sklearn.preprocessing import StandardScaler"
   ]
  },
  {
   "cell_type": "code",
   "execution_count": 2,
   "metadata": {},
   "outputs": [
    {
     "data": {
      "text/plain": [
       "array([[1, 2, 3, 4],\n",
       "       [5, 5, 6, 7],\n",
       "       [1, 4, 2, 3],\n",
       "       [5, 3, 2, 1],\n",
       "       [8, 1, 2, 2]])"
      ]
     },
     "execution_count": 2,
     "metadata": {},
     "output_type": "execute_result"
    }
   ],
   "source": [
    "M = np.array([\n",
    "    [1.0,2,3,4],\n",
    "    [5,5,6,7],\n",
    "    [1,4,2,3],\n",
    "    [5,3,2,1],\n",
    "    [8,1,2,2]\n",
    "], dtype=int)\n",
    "\n",
    "M"
   ]
  },
  {
   "cell_type": "markdown",
   "metadata": {},
   "source": [
    "### Step 1: Normalizing and Standardizing the dataset"
   ]
  },
  {
   "cell_type": "code",
   "execution_count": 3,
   "metadata": {},
   "outputs": [
    {
     "data": {
      "text/plain": [
       "array([[-1.11803399, -0.70710678,  0.        ,  0.29138576],\n",
       "       [ 0.372678  ,  1.41421356,  1.93649167,  1.74831455],\n",
       "       [-1.11803399,  0.70710678, -0.64549722, -0.19425717],\n",
       "       [ 0.372678  ,  0.        , -0.64549722, -1.16554303],\n",
       "       [ 1.49071198, -1.41421356, -0.64549722, -0.6799001 ]])"
      ]
     },
     "execution_count": 3,
     "metadata": {},
     "output_type": "execute_result"
    }
   ],
   "source": [
    "ss = StandardScaler()\n",
    "\n",
    "M_standard = ss.fit_transform(M)\n",
    "M_standard"
   ]
  },
  {
   "cell_type": "markdown",
   "metadata": {},
   "source": [
    "### Step 2: Calculate the covariance matrix for the features in the dataset."
   ]
  },
  {
   "cell_type": "code",
   "execution_count": 4,
   "metadata": {},
   "outputs": [
    {
     "data": {
      "text/plain": [
       "array([[ 1.25      , -0.39528471,  0.06014065, -0.22623554],\n",
       "       [-0.39528471,  1.25      ,  0.79876206,  0.77265317],\n",
       "       [ 0.06014065,  0.79876206,  1.25      ,  1.17555437],\n",
       "       [-0.22623554,  0.77265317,  1.17555437,  1.25      ]])"
      ]
     },
     "execution_count": 4,
     "metadata": {},
     "output_type": "execute_result"
    }
   ],
   "source": [
    "cov_matrix = np.cov(M_standard, rowvar=False)\n",
    "cov_matrix"
   ]
  },
  {
   "cell_type": "markdown",
   "metadata": {},
   "source": [
    "### Step 3: Calculate the eigenvalues and eigenvectors for the covariance matrix."
   ]
  },
  {
   "cell_type": "code",
   "execution_count": 5,
   "metadata": {},
   "outputs": [
    {
     "data": {
      "text/plain": [
       "array([3.14474155, 1.33161063, 0.4923588 , 0.03128901])"
      ]
     },
     "execution_count": 5,
     "metadata": {},
     "output_type": "execute_result"
    }
   ],
   "source": [
    "eigenvalues, eigenvectors  = np.linalg.eig(cov_matrix)\n",
    "eigenvalues"
   ]
  },
  {
   "cell_type": "markdown",
   "metadata": {},
   "source": [
    "### Step 4: sort  eigenvalues and eigenvectors"
   ]
  },
  {
   "cell_type": "code",
   "execution_count": 14,
   "metadata": {},
   "outputs": [
    {
     "data": {
      "text/plain": [
       "array([0, 1, 2, 3], dtype=int64)"
      ]
     },
     "execution_count": 14,
     "metadata": {},
     "output_type": "execute_result"
    }
   ],
   "source": [
    "sorted_eigenvalues = eigenvalues.argsort()[::-1]\n",
    "sorted_eigenvalues"
   ]
  },
  {
   "cell_type": "code",
   "execution_count": 15,
   "metadata": {},
   "outputs": [
    {
     "data": {
      "text/plain": [
       "array([[ 0.16195986, -0.91705888, -0.30707099,  0.19616173],\n",
       "       [-0.52404813,  0.20692161, -0.81731886,  0.12061043],\n",
       "       [-0.58589647, -0.3205394 ,  0.1882497 , -0.72009851],\n",
       "       [-0.59654663, -0.11593512,  0.44973251,  0.65454704]])"
      ]
     },
     "execution_count": 15,
     "metadata": {},
     "output_type": "execute_result"
    }
   ],
   "source": [
    "sorted_eigenvectors = eigenvectors[sorted_eigenvalues]\n",
    "sorted_eigenvectors"
   ]
  },
  {
   "cell_type": "markdown",
   "metadata": {},
   "source": [
    "### Step 5: Transform the original matrix."
   ]
  },
  {
   "cell_type": "code",
   "execution_count": 16,
   "metadata": {},
   "outputs": [
    {
     "name": "stdout",
     "output_type": "stream",
     "text": [
      "[[ 1.56561741e-02  8.45205482e-01  1.05229316e+00 -1.13874250e-01]\n",
      " [-2.85829190e+00 -8.72549250e-01 -1.19484137e-01 -6.43658054e-03]\n",
      " [-5.75566043e-02  1.40104719e+00 -4.43494340e-01  2.03640099e-01]\n",
      " [ 1.13385419e+00  2.66995807e-04 -7.60135860e-01 -2.24975997e-01]\n",
      " [ 1.76633814e+00 -1.37397042e+00  2.70821178e-01  1.41646728e-01]]\n"
     ]
    }
   ],
   "source": [
    "final_matrix = M_standard @ sorted_eigenvectors\n",
    "print(final_matrix)"
   ]
  },
  {
   "cell_type": "markdown",
   "metadata": {},
   "source": [
    "### Test PCA"
   ]
  },
  {
   "cell_type": "code",
   "execution_count": 9,
   "metadata": {},
   "outputs": [
    {
     "name": "stdout",
     "output_type": "stream",
     "text": [
      "[[-1.56561741e-02  8.45205482e-01  1.05229316e+00  1.13874250e-01]\n",
      " [ 2.85829190e+00 -8.72549250e-01 -1.19484137e-01  6.43658054e-03]\n",
      " [ 5.75566043e-02  1.40104719e+00 -4.43494340e-01 -2.03640099e-01]\n",
      " [-1.13385419e+00  2.66995807e-04 -7.60135860e-01  2.24975997e-01]\n",
      " [-1.76633814e+00 -1.37397042e+00  2.70821178e-01 -1.41646728e-01]]\n"
     ]
    }
   ],
   "source": [
    "from sklearn.decomposition import PCA\n",
    "pca = PCA()\n",
    "print(pca.fit_transform(M_standard))"
   ]
  },
  {
   "cell_type": "markdown",
   "metadata": {},
   "source": [
    "- we can see that the 4 steps get the same output as PCA ready model do <br>\n",
    "except the opposite sign"
   ]
  },
  {
   "cell_type": "markdown",
   "metadata": {},
   "source": [
    "### Let get all in one function"
   ]
  },
  {
   "cell_type": "code",
   "execution_count": 17,
   "metadata": {},
   "outputs": [],
   "source": [
    "def my_PCA(matrix):\n",
    "    \n",
    "    #1st step\n",
    "    ss = StandardScaler()\n",
    "    M_standard = ss.fit_transform(matrix)\n",
    "    \n",
    "    #2nd step\n",
    "    cov_matrix = np.cov(M_standard, rowvar=False)\n",
    "    \n",
    "    #3rd step\n",
    "    eigenvalues, eigenvectors  = np.linalg.eig(cov_matrix)\n",
    "\n",
    "    #4th step\n",
    "    sorted_eigenvalues = eigenvalues.argsort()[::-1]\n",
    "    sorted_eigenvectors = eigenvectors[sorted_eigenvalues]\n",
    "\n",
    "    #5t step\n",
    "    final_matrix = M_standard @ sorted_eigenvectors\n",
    "    \n",
    "    return final_matrix"
   ]
  },
  {
   "cell_type": "code",
   "execution_count": 18,
   "metadata": {},
   "outputs": [
    {
     "name": "stdout",
     "output_type": "stream",
     "text": [
      "[[ 1.56561741e-02  8.45205482e-01  1.05229316e+00 -1.13874250e-01]\n",
      " [-2.85829190e+00 -8.72549250e-01 -1.19484137e-01 -6.43658054e-03]\n",
      " [-5.75566043e-02  1.40104719e+00 -4.43494340e-01  2.03640099e-01]\n",
      " [ 1.13385419e+00  2.66995807e-04 -7.60135860e-01 -2.24975997e-01]\n",
      " [ 1.76633814e+00 -1.37397042e+00  2.70821178e-01  1.41646728e-01]]\n"
     ]
    }
   ],
   "source": [
    "print(my_PCA(M))"
   ]
  }
 ],
 "metadata": {
  "kernelspec": {
   "display_name": "Python 3",
   "language": "python",
   "name": "python3"
  },
  "language_info": {
   "codemirror_mode": {
    "name": "ipython",
    "version": 3
   },
   "file_extension": ".py",
   "mimetype": "text/x-python",
   "name": "python",
   "nbconvert_exporter": "python",
   "pygments_lexer": "ipython3",
   "version": "3.8.5"
  }
 },
 "nbformat": 4,
 "nbformat_minor": 4
}
